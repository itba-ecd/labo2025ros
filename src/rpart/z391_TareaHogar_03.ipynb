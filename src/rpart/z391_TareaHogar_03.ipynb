{
  "nbformat": 4,
  "nbformat_minor": 0,
  "metadata": {
    "colab": {
      "provenance": []
    },
    "kernelspec": {
      "name": "python3",
      "display_name": "Python 3"
    },
    "language_info": {
      "name": "python"
    }
  },
  "cells": [
    {
      "cell_type": "markdown",
      "source": [
        "# Tarea para el Hogar 03"
      ],
      "metadata": {
        "id": "-BKJ2mxiMJF_"
      }
    },
    {
      "cell_type": "markdown",
      "source": [
        "## 1. Instalacion de Google Cloud\n",
        "Si usted elegió cursar la materia en modalidad  Analista Jr o Analista Sr entonces deberá tener instalado Google Cloud.\n",
        "Instálelo siguiendo el instructivo, y en caso de dudas pregunte por Zulip. De ser necesario tenerá una videoconferencia con el profesor para guiarlo.\n",
        "<br>\n",
        "<br> Si usted elegió la modalidad  *Gerencial* entonces no debe instalar Google Cloud ya que trabajará exclusivamente en Google Colab"
      ],
      "metadata": {
        "id": "WunQDgUzMaPd"
      }
    },
    {
      "cell_type": "markdown",
      "source": [
        "## 2. Bayesian Optimization\n",
        "\n",
        "Si no llegó a correr en clase el script de  Bayesian Optimization, córralo en Google Colab.\n",
        "A los mejores hiperparámetros pruébelos contra Kaggle, utiliznado el primer notebook de la asignatura.\n",
        "¿Como comparan en el Public Leaderboard la ganancia obtenida vs la mejor corrida de Grid Search?"
      ],
      "metadata": {
        "id": "47kj4cnNLIlx"
      }
    },
    {
      "cell_type": "markdown",
      "metadata": {
        "id": "F_njYbYZOyq6"
      },
      "source": [
        "## 3. Bayesian Optimization con segunda semilla\n",
        "Debe hacer una nueva corrida del notebook de la Bayesian Optimization"
      ]
    },
    {
      "cell_type": "markdown",
      "source": [
        "### 3.1 Modalidad Gerencial\n",
        "Si usted eligió la modalidad gerencial para la asignatura, deberá correr el notebook con los siguientes cambios:\n",
        "\n",
        "\n",
        "*   Reemplazar PARAM\\$semilla_primigenia  por su SEGUNDA semilla\n",
        "*   Cambiar la carpeta del experimento de PARAM\\$experimento <- \"HT3090\"  a   \"HT3091\"  \n"
      ],
      "metadata": {
        "id": "8uOUyjLvN5c_"
      }
    },
    {
      "cell_type": "markdown",
      "source": [
        "### 3.1 Modalidad Analista  Jr o Sr\n",
        "Si usted eligió la modalidad Analista Jr. o Sr. para la asignatura, deberá correr el notebook de Bayesian Optimization en Google Cloud,  Enhorabuena !\n",
        "\n",
        "1. Ingrese a la consola de Google Cloud https://console.cloud.google.com/compute/instances\n",
        "2. Encienda la virtual machine  desktop-jr  o desktop-sr  segun corresponda\n",
        "3. Espere a que esté encendida, deberá aparecerle la External IP, copiéla a su portapales\n",
        "4. Ingrese desde el navegador de su laptop a  http://externalip:8888   donde *externalip* es la dirección IP que copió de la consola de Google Cloud\n",
        "5. Se le abrirará en SU laptop una ventana de Jopyter Lab en la que deberá cargar la clave que asignó durante la instalacion.\n",
        "6. Por el panel de la derecha navegue  a la carpeta  **labo2025ros/src/rpart**\n",
        "7. Elija el notebook **z301_OptimizacionHiperparametros.ipynb**\n",
        "8. Baje directamente a la seccion de Bayesian Optimization,  sin correr el codigo en Python para linkear Google Drive, eso NO hace falta en Google Cloud\n",
        "9. Al notebook le deberá hacer los siguientes cambios:\n",
        "    *   Reemplazar PARAM\\$semilla_primigenia  por su SEGUNDA semilla\n",
        "    *   Cambiar la carpeta del experimento de PARAM\\$experimento <- \"HT3090\"  a   \"HT3091\"  \n",
        "\n"
      ],
      "metadata": {
        "id": "T_H_-OL6QHeU"
      }
    },
    {
      "cell_type": "markdown",
      "source": [
        "## 3. Comparacion de las corridas de Bayesian Optimization\n",
        "Compare los hiperparámetros obtenidos en la corrida inicial de Bayesian Optimization utiizando su auténtica primer semilla,  y la segunda corrida en donde utilizó su segunda semilla.  ¿Son similares los hiperparámetros y las ganancias obtenidas?\n",
        "<br>\n",
        "<br> Realice la subida a Kaggle de la predicción del modelo final que resulta de los hiperparámetros encontrados en esta segunda corrida de Bayesian Optimization."
      ],
      "metadata": {
        "id": "XE_LVnHaXs5f"
      }
    },
    {
      "cell_type": "markdown",
      "source": [
        "## 4. Exclusivo para Analistas Sr.\n",
        "Modifique el script de Bayesian Optimization para que realice  n-repated 5-fold Cross Validation  en cada iteración de la Bayesian Optimization.\n",
        "<br> Corra en Google Cloud  10-repeated 5-fold Cross Val y compare los resultados con los de una simple y debil Bayesian Optimization."
      ],
      "metadata": {
        "id": "OfeokofZaIca"
      }
    },
    {
      "cell_type": "code",
      "source": [],
      "metadata": {
        "id": "mKpSGIAhaiTP"
      },
      "execution_count": null,
      "outputs": []
    }
  ]
}